{
 "cells": [
  {
   "cell_type": "raw",
   "metadata": {},
   "source": [
    "1) A company decided to give bonus of 5% to employee if his/her year of service is more than 5 years.\n",
    "Ask user for their salary and year of service and print the net bonus amount."
   ]
  },
  {
   "cell_type": "code",
   "execution_count": 6,
   "metadata": {},
   "outputs": [],
   "source": [
    "#Type your code here\n",
    "salary = float(input(\"Enter your salary: \"))\n",
    "years_of_service = int(input(\"Enter your years of service: \"))\n",
    "\n",
    "if years_of_service > 5:\n",
    "    bonus_amount = 0.05 * salary\n",
    "    print(f\"Congratulations! You are eligible for a bonus of {bonus_amount:.2f} PKR.\")\n",
    "else:\n",
    "    print(\"Sorry, you are not eligible for a bonus.\")\n"
   ]
  },
  {
   "cell_type": "markdown",
   "metadata": {},
   "source": [
    "\n",
    "2) Write a program to check whether a person is eligible for voting or not. (accept age from user) if age is greater than 17 eligible otherwise not eligible"
   ]
  },
  {
   "cell_type": "code",
   "execution_count": 7,
   "metadata": {},
   "outputs": [],
   "source": [
    "#Type your code here\n",
    "age = int(input(\"Enter your age: \"))\n",
    "\n",
    "if age > 17:\n",
    "    print(\"You are eligible for voting.\")\n",
    "else:\n",
    "    print(\"You are not eligible for voting.\")\n"
   ]
  },
  {
   "cell_type": "markdown",
   "metadata": {},
   "source": [
    "\n",
    "3) Write a program to check whether a number entered by user is even or odd."
   ]
  },
  {
   "cell_type": "code",
   "execution_count": 8,
   "metadata": {},
   "outputs": [],
   "source": [
    "#Type your code here\n",
    "number = int(input(\"Enter a number: \"))\n",
    "\n",
    "if number % 2 == 0:\n",
    "    print(f\"{number} is an even number.\")\n",
    "else:\n",
    "    print(f\"{number} is an odd number.\")\n"
   ]
  },
  {
   "cell_type": "markdown",
   "metadata": {},
   "source": [
    "4) Write a program to check whether a number is divisible by 7 or not.\n",
    "Show Answer"
   ]
  },
  {
   "cell_type": "code",
   "execution_count": 9,
   "metadata": {},
   "outputs": [],
   "source": [
    "#Type your code here\n",
    "number = int(input(\"Enter a number: \"))\n",
    "\n",
    "if number % 7 == 0:\n",
    "    print(f\"{number} is divisible by 7.\")\n",
    "else:\n",
    "    print(f\"{number} is not divisible by 7.\")\n"
   ]
  },
  {
   "cell_type": "raw",
   "metadata": {},
   "source": [
    "5) Write a program to display \n",
    "\"Hello\" if a number entered by user is a multiple of five , otherwise print \"Bye\"."
   ]
  },
  {
   "cell_type": "code",
   "execution_count": 11,
   "metadata": {},
   "outputs": [],
   "source": [
    "#Type your code here\n",
    "number = int(input(\"Enter a number: \"))\n",
    "\n",
    "if number % 5 == 0:\n",
    "    print(\"Hello\")\n",
    "else:\n",
    "    print(\"Bye\")\n"
   ]
  },
  {
   "cell_type": "raw",
   "metadata": {},
   "source": [
    "7) Write a program to display the last digit of a number.\n"
   ]
  },
  {
   "cell_type": "code",
   "execution_count": 12,
   "metadata": {},
   "outputs": [],
   "source": [
    "#Type your code here\n",
    "number = int(input(\"Enter a number: \"))\n",
    "\n",
    "last_digit = number % 10\n",
    "print(\"The last digit of\" , number , \" is \" ,last_digit)\n"
   ]
  },
  {
   "cell_type": "raw",
   "metadata": {},
   "source": [
    "Q8. Write a program to check whether the last digit of a number( entered by user ) is \n",
    "divisible by 3 or not."
   ]
  },
  {
   "cell_type": "code",
   "execution_count": 13,
   "metadata": {},
   "outputs": [],
   "source": [
    "#Type your code here\n",
    "number = int(input(\"Enter a number: \"))\n",
    "\n",
    "last_digit = number % 10\n",
    "\n",
    "if last_digit % 3 == 0:\n",
    "    print(f\"The last digit ({last_digit}) is divisible by 3.\")\n",
    "else:\n",
    "    print(f\"The last digit ({last_digit}) is not divisible by 3.\")\n"
   ]
  },
  {
   "cell_type": "raw",
   "metadata": {},
   "source": [
    "9) Take values of length and breadth of a rectangle from user and print if it is square or rectangle."
   ]
  },
  {
   "cell_type": "code",
   "execution_count": 14,
   "metadata": {},
   "outputs": [],
   "source": [
    "#Type your code here \n",
    "length = float(input(\"Enter the length of the rectangle: \"))\n",
    "breadth = float(input(\"Enter the breadth of the rectangle: \"))\n",
    "\n",
    "if length == breadth:\n",
    "    print(\"It is a square.\")\n",
    "else:\n",
    "    print(\"It is a rectangle.\")\n"
   ]
  },
  {
   "cell_type": "raw",
   "metadata": {},
   "source": [
    "10) Take two int values from user and print greatest among them."
   ]
  },
  {
   "cell_type": "code",
   "execution_count": 15,
   "metadata": {},
   "outputs": [],
   "source": [
    "# Type your code here\n",
    "num1 = int(input(\"Enter the first integer: \"))\n",
    "num2 = int(input(\"Enter the second integer: \"))\n",
    "\n",
    "if num1 > num2:\n",
    "    print(f\"The greatest number is: {num1}\")\n",
    "elif num1 < num2:\n",
    "    print(f\"The greatest number is: {num2}\")\n",
    "else:\n",
    "    print(\"Both numbers are equal.\")\n"
   ]
  },
  {
   "cell_type": "raw",
   "metadata": {},
   "source": [
    "11) A shop will give discount of 10% if the cost of purchased quantity is more than 1000.\n",
    "Ask user for quantity\n",
    "Suppose, one unit will cost 100.\n",
    "Judge and print total cost for user."
   ]
  },
  {
   "cell_type": "code",
   "execution_count": 16,
   "metadata": {},
   "outputs": [],
   "source": [
    "#Type your code here\n",
    "cost_per_unit = 100\n",
    "discount_threshold = 1000\n",
    "discount_percentage = 10\n",
    "\n",
    "quantity = int(input(\"Enter the quantity: \"))\n",
    "\n",
    "total_cost = quantity * cost_per_unit\n",
    "\n",
    "if total_cost > discount_threshold:\n",
    "    discount = (discount_percentage / 100) * total_cost\n",
    "    total_cost -= discount\n",
    "\n",
    "print(f\"The total cost is: Rs. {total_cost}\")\n"
   ]
  },
  {
   "cell_type": "raw",
   "metadata": {},
   "source": [
    "12) A school has following rules for grading system:\n",
    "\n",
    "a. Below 25 - F\n",
    "\n",
    "b. 25 to 45 - E\n",
    "\n",
    "c. 45 to 50 - D\n",
    "\n",
    "d. 50 to 60 - C\n",
    "\n",
    "e. 60 to 80 - B\n",
    "\n",
    "f. Above 80 - A\n",
    "\n",
    "Ask user to enter marks and print the corresponding grade."
   ]
  },
  {
   "cell_type": "code",
   "execution_count": 17,
   "metadata": {},
   "outputs": [],
   "source": [
    "#Type your code here\n",
    "marks = float(input(\"Enter the marks: \"))\n",
    "\n",
    "if marks < 25:\n",
    "    grade = 'F'\n",
    "elif marks < 45:\n",
    "    grade = 'E'\n",
    "elif marks < 50:\n",
    "    grade = 'D'\n",
    "elif marks < 60:\n",
    "    grade = 'C'\n",
    "elif marks < 80:\n",
    "    grade = 'B'\n",
    "else:\n",
    "    grade = 'A'\n",
    "\n",
    "print(\"The grade for\" ,marks ,\"marks is:\" , grade)\n"
   ]
  },
  {
   "cell_type": "raw",
   "metadata": {},
   "source": [
    "14)A student will not be allowed to sit in exam if his/her attendence is less than 75%.\n",
    "\n",
    "Take following input from user\n",
    "\n",
    "Number of classes held\n",
    "\n",
    "Number of classes attended.\n",
    "\n",
    "And print\n",
    "\n",
    "percentage of class attended\n",
    "\n",
    "Is student is allowed to sit in exam or not.\n"
   ]
  },
  {
   "cell_type": "code",
   "execution_count": 19,
   "metadata": {},
   "outputs": [],
   "source": [
    "#Type your code here\n",
    "classes_held = int(input(\"Enter the number of classes held: \"))\n",
    "classes_attended = int(input(\"Enter the number of classes attended: \"))\n",
    "\n",
    "attendance_percentage = (classes_attended / classes_held) * 100\n",
    "\n",
    "if attendance_percentage >= 75:\n",
    "    print(f\"Percentage of classes attended: {attendance_percentage:.2f}%\")\n",
    "    print(\"The student is allowed to sit in the exam.\")\n",
    "else:\n",
    "    print(f\"Percentage of classes attended: {attendance_percentage:.2f}%\")\n",
    "    print(\"The student is not allowed to sit in the exam due to low attendance.\")\n"
   ]
  },
  {
   "cell_type": "raw",
   "metadata": {},
   "source": [
    "15) Modify the above question to allow student to sit if he/she has medical cause. Ask user if he/she has medical cause or not ( 'Y' or 'N' ) and print accordingly."
   ]
  },
  {
   "cell_type": "code",
   "execution_count": 20,
   "metadata": {},
   "outputs": [],
   "source": [
    "#Type your code here\n",
    "classes_held = int(input(\"Enter the number of classes held: \"))\n",
    "classes_attended = int(input(\"Enter the number of classes attended: \"))\n",
    "medical_cause = input(\"Do you have a medical cause? (Enter 'Y' or 'N'): \")\n",
    "\n",
    "attendance_percentage = (classes_attended / classes_held) * 100\n",
    "\n",
    "if attendance_percentage >= 75 or medical_cause.upper() == 'Y':\n",
    "    print(f\"Percentage of classes attended: {attendance_percentage:.2f}%\")\n",
    "    print(\"The student is allowed to sit in the exam.\")\n",
    "else:\n",
    "    print(f\"Percentage of classes attended: {attendance_percentage:.2f}%\")\n",
    "    print(\"The student is not allowed to sit in the exam due to low attendance.\")\n"
   ]
  },
  {
   "cell_type": "raw",
   "metadata": {},
   "source": [
    "16) Write a program to check if a year is leap year or not.\n",
    "\n",
    "If a year is divisible by 4 then it is leap year but if the year is century year like 2000, 1900, 2100 then it must be divisible by 400."
   ]
  },
  {
   "cell_type": "code",
   "execution_count": 21,
   "metadata": {},
   "outputs": [],
   "source": [
    "#Type your code here\n",
    "year = int(input(\"Enter a year: \"))\n",
    "\n",
    "if (year % 4 == 0 and year % 100 != 0) or (year % 400 == 0):\n",
    "    print(f\"{year} is a leap year.\")\n",
    "else:\n",
    "    print(f\"{year} is not a leap year.\")\n"
   ]
  },
  {
   "cell_type": "raw",
   "metadata": {},
   "source": [
    "17) Ask user to enter age, gender ( M or F ), marital status ( Y or N ) and then using following rules print their place of service.\n",
    "\n",
    "if employee is female, then she will work only in urban areas.\n",
    "\n",
    "if employee is a male and age is in between 20 to 40 then he may work in anywhere\n",
    "\n",
    "if employee is male and age is in between 40 t0 60 then he will work in urban areas only.\n",
    "\n",
    "And any other input of age should print \"ERROR\""
   ]
  },
  {
   "cell_type": "code",
   "execution_count": 22,
   "metadata": {},
   "outputs": [],
   "source": [
    "#Type your code here\n",
    "age = int(input(\"Enter age: \"))\n",
    "gender = input(\"Enter gender (M or F): \").upper()\n",
    "marital_status = input(\"Enter marital status (Y or N): \").upper()\n",
    "\n",
    "if gender == 'F':\n",
    "    print(\"She will work only in urban areas.\")\n",
    "elif gender == 'M' and 20 <= age <= 40:\n",
    "    print(\"He may work anywhere.\")\n",
    "elif gender == 'M' and 40 <= age <= 60:\n",
    "    print(\"He will work in urban areas only.\")\n",
    "else:\n",
    "    print(\"ERROR\")\n"
   ]
  },
  {
   "cell_type": "code",
   "execution_count": null,
   "metadata": {},
   "outputs": [],
   "source": []
  },
  {
   "cell_type": "raw",
   "metadata": {},
   "source": [
    "6) Write a program to calculate the electricity bill (accept number of unit from user) according to the following criteria :\n",
    "     Unit                                                     Price  \n",
    "uptp 100 units                                             no charge\n",
    "Next 200 units                                              Rs 5 per unit\n",
    "After 200 units                                             Rs 10 per unit\n",
    "(For example if input unit is 350 than total bill amount is Rs.3500\n",
    "(For example if input unit is 97 than total bill amount is Rs.0\n",
    "(For example if input unit is 150 than total bill amount is Rs.750"
   ]
  },
  {
   "cell_type": "code",
   "execution_count": null,
   "metadata": {},
   "outputs": [],
   "source": [
    "#Type your code here\n",
    "units = int(input(\"Enter the number of units consumed: \"))\n",
    "\n",
    "if units <= 100:\n",
    "    bill_amount = 0\n",
    "\n",
    "elif units <= 300:\n",
    "    bill_amount = (units - 100) * 5\n",
    "\n",
    "else:\n",
    "    bill_amount = (200 * 5) + (units - 300) * 10\n",
    "\n",
    "print(f\"The total electricity bill amount is Rs.{bill_amount}\")\n"
   ]
  },
  {
   "cell_type": "raw",
   "metadata": {},
   "source": [
    "13) Take input of age of 3 people by user and determine oldest and youngest among them."
   ]
  },
  {
   "cell_type": "code",
   "execution_count": 18,
   "metadata": {},
   "outputs": [],
   "source": [
    "#Type your code here\n",
    "age1 = int(input(\"Enter age of person 1: \"))\n",
    "age2 = int(input(\"Enter age of person 2: \"))\n",
    "age3 = int(input(\"Enter age of person 3: \"))\n",
    "\n",
    "if age1 >= age2 and age1 >= age3:\n",
    "    oldest = age1\n",
    "elif age2 >= age1 and age2 >= age3:\n",
    "    oldest = age2\n",
    "else:\n",
    "    oldest = age3\n",
    "\n",
    "if age1 <= age2 and age1 <= age3:\n",
    "    youngest = age1\n",
    "elif age2 <= age1 and age2 <= age3:\n",
    "    youngest = age2\n",
    "else:\n",
    "    youngest = age3\n",
    "\n",
    "print(f\"The oldest person is {oldest} years old.\")\n",
    "print(f\"The youngest person is {youngest} years old.\")\n"
   ]
  }
 ],
 "metadata": {
  "kernelspec": {
   "display_name": "Python 3 (ipykernel)",
   "language": "python",
   "name": "python3"
  },
  "language_info": {
   "codemirror_mode": {
    "name": "ipython",
    "version": 3
   },
   "file_extension": ".py",
   "mimetype": "text/x-python",
   "name": "python",
   "nbconvert_exporter": "python",
   "pygments_lexer": "ipython3",
   "version": "3.11.5"
  }
 },
 "nbformat": 4,
 "nbformat_minor": 2
}
